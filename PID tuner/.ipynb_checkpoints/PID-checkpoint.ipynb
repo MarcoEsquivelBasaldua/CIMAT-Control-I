{
 "cells": [
  {
   "cell_type": "code",
   "execution_count": 2,
   "metadata": {},
   "outputs": [],
   "source": [
    "###Controlador PID"
   ]
  },
  {
   "cell_type": "code",
   "execution_count": 3,
   "metadata": {},
   "outputs": [],
   "source": [
    "import numpy as np\n",
    "import control as ctr\n",
    "import matplotlib.pyplot as plt"
   ]
  },
  {
   "cell_type": "code",
   "execution_count": 3,
   "metadata": {},
   "outputs": [],
   "source": [
    "## Aproximación de una derivada\n",
    "def derivative(f, tk, tk_1, delta_t):\n",
    "    return (f(tk) - f(tk_1))/delta_t"
   ]
  },
  {
   "cell_type": "code",
   "execution_count": 2,
   "metadata": {},
   "outputs": [],
   "source": [
    "## Solución de ecuaciones diferenciales usando el método de Euler\n",
    "def euler(f, der, t_0, delta_t, Time):\n",
    "    K = int((Time[1]-Time[0])/delta_t)\n",
    "    \n",
    "    t = np.zeros(K)\n",
    "    y = np.zeros(K)\n",
    "    t[0] = t_0\n",
    "    y[0] = f(t_0)\n",
    "    for i in range (1,K):\n",
    "        t[i] = t[i-1] + delta_t*der(f, t[i], t[i-1], delta_t)\n",
    "        y[i] = f(t[i])\n",
    "        \n",
    "    return t,y"
   ]
  },
  {
   "cell_type": "code",
   "execution_count": 12,
   "metadata": {},
   "outputs": [],
   "source": [
    "## función del error\n",
    "def error(Y, R):\n",
    "    return Y-R"
   ]
  },
  {
   "cell_type": "raw",
   "metadata": {},
   "source": []
  },
  {
   "cell_type": "code",
   "execution_count": 23,
   "metadata": {},
   "outputs": [
    {
     "data": {
      "image/png": "[encoded data removed]",
      "text/plain": [
       "<Figure size 432x288 with 1 Axes>"
      ]
     },
     "metadata": {
      "needs_background": "light"
     },
     "output_type": "display_data"
    }
   ],
   "source": [
    "## Funcion de transferencia en lazo abierto sin PID\n",
    "num = np.array([0., 0., 1.])\n",
    "den = np.array([1., 5., 6.])\n",
    "\n",
    "sys = ctr.TransferFunction(num,den)\n",
    "T, yout = ctr.step_response(sys,T)\n",
    "plt.plot(T,yout)\n",
    "plt.show()"
   ]
  },
  {
   "cell_type": "code",
   "execution_count": 4,
   "metadata": {},
   "outputs": [],
   "source": [
    "## Funcion del bloque pid\n",
    "def PID(kp, ki, kd, ek, sum_e, de, delta_t):\n",
    "    up = kp * ek\n",
    "    ui = ki * sum_e\n",
    "    ud = kd * de\n",
    "    \n",
    "    return up + ui + ud"
   ]
  },
  {
   "cell_type": "code",
   "execution_count": 5,
   "metadata": {},
   "outputs": [],
   "source": [
    "## Bloques G(s) y H(s) en el dominio temporal\n",
    "def g_t(t):\n",
    "    return np.exp(-2*t) - np.exp(-3*t)\n",
    "\n",
    "def h_t(t):\n",
    "    return np.exp(-4*t)"
   ]
  },
  {
   "cell_type": "code",
   "execution_count": 19,
   "metadata": {},
   "outputs": [
    {
     "name": "stdout",
     "output_type": "stream",
     "text": [
      "100\n",
      "[0.00000000e+000 1.08413497e+001 1.15244294e+003 9.94808114e+006\n",
      " 3.48491015e+014 1.87764049e+029 2.29935836e+058 1.41536555e+116\n",
      " 2.15806440e+231             inf             inf             nan\n",
      "             nan             nan             nan             nan\n",
      "             nan             nan             nan             nan\n",
      "             nan             nan             nan             nan\n",
      "             nan             nan             nan             nan\n",
      "             nan             nan             nan             nan\n",
      "             nan             nan             nan             nan\n",
      "             nan             nan             nan             nan\n",
      "             nan             nan             nan             nan\n",
      "             nan             nan             nan             nan\n",
      "             nan             nan             nan             nan\n",
      "             nan             nan             nan             nan\n",
      "             nan             nan             nan             nan\n",
      "             nan             nan             nan             nan\n",
      "             nan             nan             nan             nan\n",
      "             nan             nan             nan             nan\n",
      "             nan             nan             nan             nan\n",
      "             nan             nan             nan             nan\n",
      "             nan             nan             nan             nan\n",
      "             nan             nan             nan             nan\n",
      "             nan             nan             nan             nan\n",
      "             nan             nan             nan             nan\n",
      "             nan             nan             nan             nan]\n"
     ]
    },
    {
     "name": "stderr",
     "output_type": "stream",
     "text": [
      "/home/d709/.local/lib/python3.6/site-packages/ipykernel_launcher.py:41: RuntimeWarning: overflow encountered in double_scalars\n",
      "/home/d709/.local/lib/python3.6/site-packages/ipykernel_launcher.py:38: RuntimeWarning: invalid value encountered in double_scalars\n"
     ]
    },
    {
     "data": {
      "image/png": "[encoded data removed]",
      "text/plain": [
       "<Figure size 432x288 with 1 Axes>"
      ]
     },
     "metadata": {
      "needs_background": "light"
     },
     "output_type": "display_data"
    }
   ],
   "source": [
    "## Sistema \n",
    "\n",
    "# Se define el tiempo en el que el sistema funcionará\n",
    "delta_t = 0.1\n",
    "t_0 = 0.\n",
    "t_end = 10.\n",
    "n = int((t_end - t_0)/delta_t)\n",
    "print(n)\n",
    "\n",
    "t = np.linspace(t_0, t_end, n)\n",
    "\n",
    "# vector de salida\n",
    "c_t = np.zeros(len(t))\n",
    "\n",
    "# valor de las constantes en el controlador PID\n",
    "kp = 139.1477\n",
    "ki = 251.7144\n",
    "kd = 19.2302\n",
    "\n",
    "# Se establece el valor de referencia\n",
    "r_t = 1       # escalón unitario\n",
    "\n",
    "# Se calculan de forma iterativa los valores de c_t\n",
    "for k in range(1,len(t)):\n",
    "    t_k = t_0 + k*delta_t\n",
    "    \n",
    "    if k == 1:\n",
    "        ek = r_t\n",
    "        sum_e = 0\n",
    "        de = 0\n",
    "        \n",
    "        u = ek * PID(kp, ki, kd, ek, sum_e, de, delta_t)\n",
    "        c_t[k] = u * g_t(t_k)\n",
    "        \n",
    "    else:\n",
    "        ek = r_t - c_t[k-1]*h_t(t_k)\n",
    "        sum_e += ek*delta_t\n",
    "        de = (ek - ek_1)/delta_t\n",
    "        \n",
    "        \n",
    "        u = ek * PID(kp, ki, kd, ek, sum_e, de, delta_t)\n",
    "        c_t[k] = u * g_t(t_k)\n",
    "        \n",
    "    ek_1 = ek\n",
    "\n",
    "print(c_t)\n",
    "\n",
    "\n",
    "    \n",
    "# Se mestran los resultados en una gráfica\n",
    "plt.plot(t,c_t)\n",
    "plt.show()"
   ]
  },
  {
   "cell_type": "code",
   "execution_count": null,
   "metadata": {},
   "outputs": [],
   "source": []
  }
 ],
 "metadata": {
  "kernelspec": {
   "display_name": "Python 3",
   "language": "python",
   "name": "python3"
  },
  "language_info": {
   "codemirror_mode": {
    "name": "ipython",
    "version": 3
   },
   "file_extension": ".py",
   "mimetype": "text/x-python",
   "name": "python",
   "nbconvert_exporter": "python",
   "pygments_lexer": "ipython3",
   "version": "3.6.9"
  }
 },
 "nbformat": 4,
 "nbformat_minor": 4
}
